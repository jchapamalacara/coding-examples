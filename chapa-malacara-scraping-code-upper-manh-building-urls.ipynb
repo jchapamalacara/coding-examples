{
 "cells": [
  {
   "cell_type": "code",
   "execution_count": 1,
   "id": "76e9009e",
   "metadata": {},
   "outputs": [],
   "source": [
    "import pandas as pd\n",
    "import requests\n",
    "from icecream import ic\n",
    "from bs4 import BeautifulSoup\n",
    "import time\n",
    "from random import randrange\n"
   ]
  },
  {
   "cell_type": "code",
   "execution_count": 2,
   "id": "4fa1792d",
   "metadata": {},
   "outputs": [],
   "source": [
    "building_names = []\n",
    "building_urls = []\n",
    "\n",
    "base_url = \"https://streeteasy.com/buildings/upper?page={}&refined_search=true\"\n",
    "\n",
    "# page_counter = 1\n"
   ]
  },
  {
   "cell_type": "code",
   "execution_count": 3,
   "id": "238f6d27",
   "metadata": {},
   "outputs": [],
   "source": [
    "# def request_next_page(page_counter):\n",
    "#     headers = {'User-Agent' : 'Mozilla/5.0 (Macintosh; Intel Mac OS X 10.15; rv:92.0) Gecko/20100101 Firefox/92.0', 'Referer' : 'https://streeteasy.com/'}\n",
    "#     next_page = f'https://streeteasy.com/buildings/upper?page={page_counter}&refined_search=true'\n",
    "#     print(next_page)\n",
    "#     response = requests.get(next_page, headers = headers)\n",
    "#     return response\n",
    "\n",
    "## function to update url\n",
    "def update_url(page_number):\n",
    "    url = base_url.format(page_number)\n",
    "    return url\n",
    "\n",
    "\n",
    "## request response with headers\n",
    "def request_page(url):\n",
    "    headers = {'User-Agent' : 'Mozilla/5.0 (Macintosh; Intel Mac OS X 10.15; rv:92.0) Gecko/20100101 Firefox/92.0', 'Referer' : 'https://streeteasy.com/'}\n",
    "    response = requests.get(url, headers = headers)\n",
    "\n",
    "    return response"
   ]
  },
  {
   "cell_type": "code",
   "execution_count": 4,
   "id": "d05b008e",
   "metadata": {
    "scrolled": true
   },
   "outputs": [
    {
     "name": "stdout",
     "output_type": "stream",
     "text": [
      "200\n"
     ]
    }
   ],
   "source": [
    "## check the status code on the first page\n",
    "\n",
    "response = request_page(update_url(1))\n",
    "print(response.status_code)\n"
   ]
  },
  {
   "cell_type": "code",
   "execution_count": 5,
   "id": "65b543e1",
   "metadata": {
    "scrolled": true
   },
   "outputs": [
    {
     "name": "stdout",
     "output_type": "stream",
     "text": [
      "655\n"
     ]
    }
   ],
   "source": [
    "## extract the number of total pages to be scraped\n",
    "\n",
    "soup = BeautifulSoup(response.text, \"html.parser\")\n",
    "total_pages = int(soup.find_all('li', class_=\"page\")[-1].text)\n",
    "\n",
    "print(total_pages)\n"
   ]
  },
  {
   "cell_type": "code",
   "execution_count": 6,
   "id": "a079b9df",
   "metadata": {},
   "outputs": [
    {
     "name": "stderr",
     "output_type": "stream",
     "text": [
      "ic| building_names: ['Vandewater',\n",
      "                     '300 West ',\n",
      "                     'Eleven Hancock',\n",
      "                     'The Rennie',\n",
      "                     'The Cereza',\n",
      "                     'The Victoria Tower Residences',\n",
      "                     'Huxley',\n",
      "                     '1399 Park',\n",
      "                     'The Smile',\n",
      "                     'Kalahari',\n",
      "                     'Be.Live Harlem Condominiums']\n",
      "ic| building_urls: ['https://streeteasy.com/building/vandewater-condominium',\n",
      "                    'https://streeteasy.com/building/300-west',\n",
      "                    'https://streeteasy.com/building/eleven-hancock',\n",
      "                    'https://streeteasy.com/building/the-rennie',\n",
      "                    'https://streeteasy.com/building/the-cereza',\n",
      "                    'https://streeteasy.com/building/the-victoria-tower-residences',\n",
      "                    'https://streeteasy.com/building/huxley-condominium',\n",
      "                    'https://streeteasy.com/building/1399-park',\n"
     ]
    },
    {
     "name": "stdout",
     "output_type": "stream",
     "text": [
      "[<h2 class=\"details-title\">\n",
      "<a href=\"/building/vandewater-condominium\" se:clickable:target=\"true\">Vandewater</a>\n",
      "<span id=\"buttons_6249229\"></span>\n",
      "</h2>, <h2 class=\"details-title\">\n",
      "<a href=\"/building/300-west\" se:clickable:target=\"true\">300 West </a>\n",
      "<span id=\"buttons_37781\"></span>\n",
      "</h2>, <h2 class=\"details-title\">\n",
      "<a href=\"/building/eleven-hancock\" se:clickable:target=\"true\">Eleven Hancock</a>\n",
      "<span id=\"buttons_37887\"></span>\n",
      "</h2>, <h2 class=\"details-title\">\n",
      "<a href=\"/building/the-rennie\" se:clickable:target=\"true\">The Rennie</a>\n",
      "<span id=\"buttons_5989117\"></span>\n",
      "</h2>, <h2 class=\"details-title\">\n",
      "<a href=\"/building/the-cereza\" se:clickable:target=\"true\">The Cereza</a>\n",
      "<span id=\"buttons_30151\"></span>\n",
      "</h2>, <h2 class=\"details-title\">\n",
      "<a href=\"/building/the-victoria-tower-residences\" se:clickable:target=\"true\">The Victoria Tower Residences</a>\n",
      "<span id=\"buttons_6281999\"></span>\n",
      "</h2>, <h2 class=\"details-title\">\n",
      "<a href=\"/building/huxley-condominium\" se:clickable:target=\"true\">Huxley</a>\n",
      "<span id=\"buttons_6637824\"></span>\n",
      "</h2>, <h2 class=\"details-title\">\n",
      "<a href=\"/building/1399-park\" se:clickable:target=\"true\">1399 Park</a>\n",
      "<span id=\"buttons_30359\"></span>\n",
      "</h2>, <h2 class=\"details-title\">\n",
      "<a href=\"/building/the-smile\" se:clickable:target=\"true\">The Smile</a>\n",
      "<span id=\"buttons_6635072\"></span>\n",
      "</h2>, <h2 class=\"details-title\">\n",
      "<a href=\"/building/kalahari-condominium\" se:clickable:target=\"true\">Kalahari</a>\n",
      "<span id=\"buttons_29704\"></span>\n",
      "</h2>, <h2 class=\"details-title\">\n",
      "<a href=\"/building/belive-harlem-condominiums\" se:clickable:target=\"true\">Be.Live Harlem Condominiums</a>\n",
      "<span id=\"buttons_39680\"></span>\n",
      "</h2>]\n"
     ]
    },
    {
     "name": "stderr",
     "output_type": "stream",
     "text": [
      "                    'https://streeteasy.com/building/the-smile',\n",
      "                    'https://streeteasy.com/building/kalahari-condominium',\n",
      "                    'https://streeteasy.com/building/belive-harlem-condominiums']\n"
     ]
    },
    {
     "data": {
      "text/plain": [
       "['https://streeteasy.com/building/vandewater-condominium',\n",
       " 'https://streeteasy.com/building/300-west',\n",
       " 'https://streeteasy.com/building/eleven-hancock',\n",
       " 'https://streeteasy.com/building/the-rennie',\n",
       " 'https://streeteasy.com/building/the-cereza',\n",
       " 'https://streeteasy.com/building/the-victoria-tower-residences',\n",
       " 'https://streeteasy.com/building/huxley-condominium',\n",
       " 'https://streeteasy.com/building/1399-park',\n",
       " 'https://streeteasy.com/building/the-smile',\n",
       " 'https://streeteasy.com/building/kalahari-condominium',\n",
       " 'https://streeteasy.com/building/belive-harlem-condominiums']"
      ]
     },
     "execution_count": 6,
     "metadata": {},
     "output_type": "execute_result"
    }
   ],
   "source": [
    "## test first page\n",
    "\n",
    "building_h2s = soup.find_all('h2', class_ = \"details-title\")\n",
    "print(building_h2s)\n",
    "    \n",
    "for building in building_h2s:\n",
    "    building_names.append(building.find('a').text)\n",
    "    building_urls.append(f\"https://streeteasy.com{building.find('a')['href']}\")\n",
    "    \n",
    "ic(building_names)\n",
    "ic(building_urls)"
   ]
  },
  {
   "cell_type": "code",
   "execution_count": 7,
   "id": "413e5b14",
   "metadata": {},
   "outputs": [
    {
     "data": {
      "text/plain": [
       "[1,\n",
       " 2,\n",
       " 3,\n",
       " 4,\n",
       " 5,\n",
       " 46,\n",
       " 47,\n",
       " 48,\n",
       " 49,\n",
       " 50,\n",
       " 341,\n",
       " 342,\n",
       " 343,\n",
       " 344,\n",
       " 345,\n",
       " 563,\n",
       " 564,\n",
       " 565,\n",
       " 566,\n",
       " 567]"
      ]
     },
     "execution_count": 7,
     "metadata": {},
     "output_type": "execute_result"
    }
   ],
   "source": [
    "## scrape and check random pages to test whether code is working\n",
    "\n",
    "random_pages = [1, 2, 3, 4, 5]\n",
    "\n",
    "for one_third in range(33,100,33):\n",
    "    section_start_factor = randrange(one_third - 30, one_third - 1) / 100\n",
    "    section_counter = round(total_pages * section_start_factor)\n",
    "    for _ in range(0,5):\n",
    "        random_pages.append(section_counter)\n",
    "        section_counter += 1\n",
    "\n",
    "random_pages"
   ]
  },
  {
   "cell_type": "code",
   "execution_count": 8,
   "id": "bf4942bd",
   "metadata": {},
   "outputs": [
    {
     "name": "stdout",
     "output_type": "stream",
     "text": [
      "Successfully retrieved page 1.\n",
      "Please wait for next page.  Snoozing for 65 secs to avoid detection.\n",
      "Successfully retrieved page 2.\n",
      "Please wait for next page.  Snoozing for 88 secs to avoid detection.\n",
      "Successfully retrieved page 3.\n",
      "Please wait for next page.  Snoozing for 53 secs to avoid detection.\n",
      "Successfully retrieved page 4.\n",
      "Please wait for next page.  Snoozing for 45 secs to avoid detection.\n",
      "Successfully retrieved page 5.\n",
      "Please wait for next page.  Snoozing for 66 secs to avoid detection.\n",
      "Successfully retrieved page 46.\n",
      "Please wait for next page.  Snoozing for 80 secs to avoid detection.\n",
      "Successfully retrieved page 47.\n",
      "Please wait for next page.  Snoozing for 84 secs to avoid detection.\n",
      "Successfully retrieved page 48.\n",
      "Please wait for next page.  Snoozing for 54 secs to avoid detection.\n",
      "Successfully retrieved page 49.\n",
      "Please wait for next page.  Snoozing for 35 secs to avoid detection.\n",
      "Successfully retrieved page 50.\n",
      "Please wait for next page.  Snoozing for 30 secs to avoid detection.\n",
      "Successfully retrieved page 341.\n",
      "Please wait for next page.  Snoozing for 76 secs to avoid detection.\n",
      "Successfully retrieved page 342.\n",
      "Please wait for next page.  Snoozing for 36 secs to avoid detection.\n",
      "Successfully retrieved page 343.\n",
      "Please wait for next page.  Snoozing for 47 secs to avoid detection.\n",
      "Successfully retrieved page 344.\n",
      "Please wait for next page.  Snoozing for 37 secs to avoid detection.\n",
      "Successfully retrieved page 345.\n",
      "Please wait for next page.  Snoozing for 88 secs to avoid detection.\n",
      "Successfully retrieved page 563.\n",
      "Please wait for next page.  Snoozing for 73 secs to avoid detection.\n",
      "Successfully retrieved page 564.\n",
      "Please wait for next page.  Snoozing for 57 secs to avoid detection.\n",
      "Successfully retrieved page 565.\n",
      "Please wait for next page.  Snoozing for 82 secs to avoid detection.\n",
      "Successfully retrieved page 566.\n",
      "Please wait for next page.  Snoozing for 35 secs to avoid detection.\n",
      "Successfully retrieved page 567.\n",
      "Please wait for next page.  Snoozing for 39 secs to avoid detection.\n",
      "['Vandewater', '300 West ', 'Eleven Hancock', 'The Rennie', 'The Cereza', '1399 Park', 'The Smile', 'The Victoria Tower Residences', 'Kalahari', 'Huxley', '100 Overlook Terrace', 'Be.Live Harlem Condominiums', '145 Central Park North', '2211 Third Avenue', '643 West 171st Street', '1400 Fifth Avenue', '4260 Broadway', 'The Langston', 'Edgecombe Parc', 'The Riviera', '301 West 110th Street', '30 Morningside Drive', '30 Morningside Drive', '510 West 171st Street', '123 East 102nd Street', '546 West 156th Street', 'The Aspen', '133 West 140th Street', '2143 Adam C Powell Boulevard', '100 West 141st Street', '675 Academy Street', 'Enclave at the Cathedral', '208 West 140th Street', 'Circa Central Park', '1330 Fifth Avenue', '99 Morningside', 'Parc North', '1831 Madison Avenue', '116 Pinehurst Avenue', '130 Wadsworth Avenue', '380 Riverside Drive', 'Dwyer Condominium', '1090 Saint Nicholas Avenue', '304 West 151st Street', '2580 Adam Clayton Powell Jr Boulevard', '2002 Fifth', '77 Park Terrace East', '159-34 Riverside Drive West', '16 East 116th Street', '539 West 155th Street', '2006 Adam C Powell Boulevard', 'The Adeline', 'The Crillon Court', '173 East 101st Street', '860 West 181st Street', '395 Riverside Drive', '531 West 141st Street', '1987 Amsterdam Avenue', '168 West 123rd Street', '43 Saint Nicholas Place', '410 East 117th Street', '15 Claremont Avenue', '174 Pinehurst Avenue', '162 West 228th Street', '2131 Second Avenue', '531 West 150th Street', '353 West 117th Street', '2311 Adam Clayton Powell Jr Boulevard', '1590 Amsterdam Avenue', '244 West 137th Street', '137 West 111st Street', '509 West 152nd Street', '210 West 122nd Street', '553 West 144th Street', '109 Audubon Avenue', '144 Claremont Avenue', '1520 Saint Nicholas Avenue', '263 West 139th Street', '946 Saint Nicholas Avenue', '152 Sherman Avenue', '166 East 105th Street', '144 West 120th Street', '122 West 131st Street', '560 West 151st Street', '10 East 128th Street', '59 West 128th Street', '2649 Frederick Douglass Boulevard', '625 West 140th Street', '2036 Fifth Avenue', '209 West 118th Street', '238 Ft Washington Avenue', '2643 Frederick Douglass Boulevard', '307 West 120th Street', '87 Park Terrace West', '223 West 145th Street', '516 West 156th Street', '1700 Lexington Avenue', '103 West 118th Street', '606 West 113rd Street', '65 Ft Washington Avenue', '560 West 173rd Street', '544 West 157th Street', '229 West 139th Street', '68 Cooper Street', '1500 Amsterdam Avenue', '158 East 124th Street', '529 West 179th Street', '455 West 144th Street', '501 West 122nd Street', '209 West 118th Street', '214 East 111st Street', '801 Saint Nicholas Avenue', '56 Hamilton Terrace', '417 West 141st Street', '1 Hamilton Terrace', '348 West 145th Street', '222 Edgecombe Avenue', '41 Bradhurst Avenue', '710 Saint Nicholas Avenue', '335 Edgecombe Avenue', '363 Edgecombe Avenue', 'JAMES A. AND RUTH M. BAILEY HOUSE', '475 West 140th Street', '473 West 140th Street', '469 West 140th Street', '452 West 141st Street', '456 West 142nd Street', '473 West 142nd Street', '459 West 143rd Street', '457 West 143rd Street', '330 Convent Avenue', '468 West 144th Street', '456 West 145th Street', '466 West 145th Street', '475 West 146th Street', '431 West 146th Street', '429 West 146th Street', '406 West 147th Street', '418 West 147th Street', '430 West 147th Street', '465 West 147th Street', '457 West 148th Street', '419 West 148th Street', '407 West 148th Street', '414 West 149th Street', '811 Saint Nicholas Avenue', '464 West 153rd Street', '425 West 154th Street', '430 West 154th Street', '511 West 138th Street', '524 West 140th Street', '542 West 140th Street', '101 Hamilton Place', '532 West 142nd Street', '542 West 142nd Street', '535 West 141st Street', '514 West 143rd Street', '261 Lenox Avenue', '533 West 111st Street', '119 West 122nd Street', '51 Saint Nicholas Place', '148 West 129th Street', '614 West 131st Street', '621 West 135th Street', '626 West 136th Street', '15 Sickles Street', '45 West 118th Street', '154 West 131st Street', '550 West 184th Street', '345 Manhattan Avenue', '4411 Broadway', '1945 Park Avenue', '211 West 147th Street', '8 West 121st Street', 'Brownstone Lane I', '4 West 128th Street', '1080 Amsterdam', '600 West 157th Street', '545 West 164th Street', '69 West 126th Street', '351 West 125th Street', '142 West 121st Street', 'Rosa Parks Condominium', '640 West 138th Street', '2040 Madison Avenue', '3841 Broadway', '17 West 123rd Street', '3441 Broadway', '121 Post Avenue', '124 West 130th Street', '245 East 115th Street', '52 West 111st Street', '138 West 121st Street', '108 West 134th Street', '1291 Saint Nicholas Avenue', '1965 Amsterdam Avenue', '21 Broadway Terrace', '306 East 119th Street', '54 West 124th Street', '2328 Second Avenue', '1683 Lexington Avenue', '118 East 116th Street', '9 Sherman Avenue', '124 West 130th Street', '15 East 131st Street', '17 West 120th Street', '2128 Frederick Douglass Boulevard', '279 West 119th Street', '2552 Frederick Douglass Boulevard', '2024 Second Avenue', '19 West 120th Street', '142 Edgecombe Avenue', '41 West 118th Street', '1709 Amsterdam Avenue', '2220 Frederick Douglass Boulevard', '352 East 119th Street', '57 Vermilyea Avenue', '2302 Second Avenue', '4861 Broadway', '3427 Broadway']\n",
      "['https://streeteasy.com/building/vandewater-condominium', 'https://streeteasy.com/building/300-west', 'https://streeteasy.com/building/eleven-hancock', 'https://streeteasy.com/building/the-rennie', 'https://streeteasy.com/building/the-cereza', 'https://streeteasy.com/building/1399-park', 'https://streeteasy.com/building/the-smile', 'https://streeteasy.com/building/the-victoria-tower-residences', 'https://streeteasy.com/building/kalahari-condominium', 'https://streeteasy.com/building/huxley-condominium', 'https://streeteasy.com/building/100-overlook-terrace-new_york', 'https://streeteasy.com/building/belive-harlem-condominiums', 'https://streeteasy.com/building/145-central-park-north-new_york', 'https://streeteasy.com/building/2211-3-avenue-new_york', 'https://streeteasy.com/building/643-west-171-street-new_york', 'https://streeteasy.com/building/1400-5-avenue-new_york', 'https://streeteasy.com/building/4260-broadway-new_york', 'https://streeteasy.com/building/the-langston', 'https://streeteasy.com/building/edgecombe-parc', 'https://streeteasy.com/building/the-riviera', 'https://streeteasy.com/building/301-west-110th-street', 'https://streeteasy.com/building/30-morningside-drive-new_york', 'https://streeteasy.com/building/30-morningside-drive-new_york', 'https://streeteasy.com/building/510-west-171-street-new_york', 'https://streeteasy.com/building/123-east-102-street-new_york', 'https://streeteasy.com/building/546-west-156-street-new_york', 'https://streeteasy.com/building/the-aspen', 'https://streeteasy.com/building/133-west-140-street-new_york', 'https://streeteasy.com/building/2143-adam-c-powell-blvd-new_york', 'https://streeteasy.com/building/100-west-141-street-new_york', 'https://streeteasy.com/building/675-academy-street-new_york', 'https://streeteasy.com/building/enclave-at-the-cathedral', 'https://streeteasy.com/building/208-west-140-street-new_york', 'https://streeteasy.com/building/circa-central-park', 'https://streeteasy.com/building/1330-5-avenue-new_york', 'https://streeteasy.com/building/99-morningside', 'https://streeteasy.com/building/parc-north', 'https://streeteasy.com/building/1831-madison-avenue-new_york', 'https://streeteasy.com/building/116-pinehurst-avenue-new_york', 'https://streeteasy.com/building/130-wadsworth-avenue-new_york', 'https://streeteasy.com/building/380-riverside-drive-new_york', 'https://streeteasy.com/building/dwyer-condominium', 'https://streeteasy.com/building/1090-st-nicholas-avenue-new_york', 'https://streeteasy.com/building/304-west-151-street-new_york', 'https://streeteasy.com/building/2580-adam-clayton-powell-jr-boulevard-new_york', 'https://streeteasy.com/building/2002-fifth', 'https://streeteasy.com/building/77-park-terrace-east-new_york', 'https://streeteasy.com/building/159_34-riverside-drive-west-new_york-2', 'https://streeteasy.com/building/16-east-116-street-new_york', 'https://streeteasy.com/building/539-west-155-street-new_york', 'https://streeteasy.com/building/2006-adam-c-powell-blvd-new_york', 'https://streeteasy.com/building/the-adeline', 'https://streeteasy.com/building/the-crillon-court', 'https://streeteasy.com/building/173-east-101-street-new_york', 'https://streeteasy.com/building/860-west-181-street-new_york', 'https://streeteasy.com/building/395-riverside-drive-new_york', 'https://streeteasy.com/building/531-west-141-street-new_york', 'https://streeteasy.com/building/1987-amsterdam-avenue-new_york', 'https://streeteasy.com/building/168-west-123-street-new_york', 'https://streeteasy.com/building/43-st-nicholas-place-new_york', 'https://streeteasy.com/building/410-east-117-street-new_york', 'https://streeteasy.com/building/15-claremont-avenue-new_york', 'https://streeteasy.com/building/174-pinehurst-avenue-new_york', 'https://streeteasy.com/building/162-west-228-street-bronx', 'https://streeteasy.com/building/2131-2-avenue-new_york', 'https://streeteasy.com/building/531-west-150-street-new_york', 'https://streeteasy.com/building/353-west-117-street-new_york', 'https://streeteasy.com/building/2311-adam-clayton-powell-jr-boulevard-new_york', 'https://streeteasy.com/building/1590-amsterdam-avenue-new_york', 'https://streeteasy.com/building/244-west-137-street-new_york', 'https://streeteasy.com/building/137-west-111-street-new_york', 'https://streeteasy.com/building/509-west-152-street-new_york', 'https://streeteasy.com/building/210-west-122-street-new_york', 'https://streeteasy.com/building/553-west-144-street-new_york', 'https://streeteasy.com/building/109-audubon-avenue-new_york', 'https://streeteasy.com/building/144-claremont-avenue-new_york', 'https://streeteasy.com/building/1520-st-nicholas-avenue-new_york', 'https://streeteasy.com/building/263-west-139-street-new_york', 'https://streeteasy.com/building/946-st-nicholas-avenue-new_york', 'https://streeteasy.com/building/152-sherman-avenue-new_york', 'https://streeteasy.com/building/166-east-105-street-new_york', 'https://streeteasy.com/building/144-west-120-street-new_york', 'https://streeteasy.com/building/122-west-131-street-new_york', 'https://streeteasy.com/building/560-west-151-street-new_york', 'https://streeteasy.com/building/10-east-128-street-new_york', 'https://streeteasy.com/building/59-west-128-street-new_york', 'https://streeteasy.com/building/2649-frederick-douglass-blvd-new_york', 'https://streeteasy.com/building/625-west-140-street-new_york', 'https://streeteasy.com/building/2036-5-avenue-new_york', 'https://streeteasy.com/building/209-west-118-street-new_york', 'https://streeteasy.com/building/238-ft-washington-avenue-new_york', 'https://streeteasy.com/building/2643-frederick-douglass-blvd-new_york', 'https://streeteasy.com/building/307-west-120-street-new_york', 'https://streeteasy.com/building/87-park-terrace-west-new_york', 'https://streeteasy.com/building/223-west-145-street-new_york', 'https://streeteasy.com/building/516-west-156-street-new_york', 'https://streeteasy.com/building/1700-lexington-avenue-new_york', 'https://streeteasy.com/building/103-west-118-street-new_york', 'https://streeteasy.com/building/606-west-113-street-new_york', 'https://streeteasy.com/building/65-ft-washington-avenue-new_york', 'https://streeteasy.com/building/560-west-173-street-new_york', 'https://streeteasy.com/building/544-west-157-street-new_york', 'https://streeteasy.com/building/229-west-139-street-new_york', 'https://streeteasy.com/building/68-cooper-street-new_york', 'https://streeteasy.com/building/1500-amsterdam-avenue-new_york', 'https://streeteasy.com/building/158-east-124-street-new_york', 'https://streeteasy.com/building/529-west-179-street-new_york', 'https://streeteasy.com/building/455-west-144-street-new_york', 'https://streeteasy.com/building/501-west-122-street-new_york', 'https://streeteasy.com/building/209-west-118-street-new_york', 'https://streeteasy.com/building/214-east-111-street-new_york', 'https://streeteasy.com/building/801-st-nicholas-avenue-new_york', 'https://streeteasy.com/building/56-hamilton-terrace-new_york', 'https://streeteasy.com/building/417-west-141-street-new_york', 'https://streeteasy.com/building/1-hamilton-terrace-new_york', 'https://streeteasy.com/building/348-west-145-street-new_york', 'https://streeteasy.com/building/222-edgecombe-avenue-new_york', 'https://streeteasy.com/building/41-bradhurst-avenue-new_york', 'https://streeteasy.com/building/710-st-nicholas-avenue-new_york', 'https://streeteasy.com/building/335-edgecombe-avenue-new_york', 'https://streeteasy.com/building/363-edgecombe-avenue-new_york', 'https://streeteasy.com/building/james-a-and-ruth-m-bailey-house', 'https://streeteasy.com/building/475-west-140-street-new_york', 'https://streeteasy.com/building/473-west-140-street-new_york', 'https://streeteasy.com/building/469-west-140-street-new_york', 'https://streeteasy.com/building/452-west-141-street-new_york', 'https://streeteasy.com/building/456-west-142-street-new_york', 'https://streeteasy.com/building/473-west-142-street-new_york', 'https://streeteasy.com/building/459-west-143-street-new_york', 'https://streeteasy.com/building/457-west-143-street-new_york', 'https://streeteasy.com/building/330-convent-avenue-new_york', 'https://streeteasy.com/building/468-west-144-street-new_york', 'https://streeteasy.com/building/456-west-145-street-new_york', 'https://streeteasy.com/building/466-west-145-street-new_york', 'https://streeteasy.com/building/475-west-146-street-new_york', 'https://streeteasy.com/building/431-west-146-street-new_york', 'https://streeteasy.com/building/429-west-146-street-new_york', 'https://streeteasy.com/building/406-west-147-street-new_york', 'https://streeteasy.com/building/418-west-147-street-new_york', 'https://streeteasy.com/building/430-west-147-street-new_york', 'https://streeteasy.com/building/465-west-147-street-new_york', 'https://streeteasy.com/building/457-west-148-street-new_york', 'https://streeteasy.com/building/419-west-148-street-new_york', 'https://streeteasy.com/building/407-west-148-street-new_york', 'https://streeteasy.com/building/414-west-149-street-new_york', 'https://streeteasy.com/building/811-st-nicholas-avenue-new_york', 'https://streeteasy.com/building/464-west-153-street-new_york', 'https://streeteasy.com/building/425-west-154-street-new_york', 'https://streeteasy.com/building/430-west-154-street-new_york', 'https://streeteasy.com/building/511-west-138-street-new_york', 'https://streeteasy.com/building/524-west-140-street-new_york', 'https://streeteasy.com/building/542-west-140-street-new_york', 'https://streeteasy.com/building/101-hamilton-place-new_york', 'https://streeteasy.com/building/532-west-142-street-new_york', 'https://streeteasy.com/building/542-west-142-street-new_york', 'https://streeteasy.com/building/535-west-141-street-new_york', 'https://streeteasy.com/building/514-west-143-street-new_york', 'https://streeteasy.com/building/261-lenox-avenue-new_york', 'https://streeteasy.com/building/533-west-111-street-new_york', 'https://streeteasy.com/building/119-west-122-street-new_york', 'https://streeteasy.com/building/51-st-nicholas-place-new_york', 'https://streeteasy.com/building/148-west-129-street-new_york', 'https://streeteasy.com/building/614-west-131-street-new_york', 'https://streeteasy.com/building/621-west-135-street-new_york', 'https://streeteasy.com/building/626-west-136-street-new_york', 'https://streeteasy.com/building/15-sickles-street-new_york', 'https://streeteasy.com/building/45-west-118-street-new_york', 'https://streeteasy.com/building/154-west-131-street-new_york', 'https://streeteasy.com/building/550-west-184-street-new_york', 'https://streeteasy.com/building/345-manhattan-avenue-new_york', 'https://streeteasy.com/building/4411-broadway-new_york', 'https://streeteasy.com/building/1945-park-avenue-new_york', 'https://streeteasy.com/building/211-west-147-street-new_york', 'https://streeteasy.com/building/8-west-121-street-new_york', 'https://streeteasy.com/building/brownstone-lane-i-312-west-119-street-new_york', 'https://streeteasy.com/building/4-west-128-street-new_york', 'https://streeteasy.com/building/1080-amsterdam', 'https://streeteasy.com/building/600-west-157-street-new_york', 'https://streeteasy.com/building/545-west-164-street-new_york', 'https://streeteasy.com/building/69-west-126-street-new_york', 'https://streeteasy.com/building/351-west-125-street-new_york', 'https://streeteasy.com/building/142-west-121-street-new_york', 'https://streeteasy.com/building/rosa-parks-condominium', 'https://streeteasy.com/building/640-west-138-street-new_york', 'https://streeteasy.com/building/2040-madison-avenue-new_york', 'https://streeteasy.com/building/3841-broadway-new_york', 'https://streeteasy.com/building/17-west-123-street-new_york', 'https://streeteasy.com/building/3441-broadway-new_york', 'https://streeteasy.com/building/121-post-avenue-new_york', 'https://streeteasy.com/building/124-west-130-street-new_york', 'https://streeteasy.com/building/245-east-115-street-new_york', 'https://streeteasy.com/building/52-west-111-street-new_york', 'https://streeteasy.com/building/138-west-121-street-new_york', 'https://streeteasy.com/building/108-west-134-street-new_york', 'https://streeteasy.com/building/1291-st-nicholas-avenue-new_york', 'https://streeteasy.com/building/1965-amsterdam-avenue-new_york', 'https://streeteasy.com/building/21-broadway-terrace-new_york', 'https://streeteasy.com/building/306-east-119-street-new_york', 'https://streeteasy.com/building/54-west-124-street-new_york', 'https://streeteasy.com/building/2328-2-avenue-new_york', 'https://streeteasy.com/building/1683-lexington-avenue-new_york', 'https://streeteasy.com/building/118-east-116-street-new_york', 'https://streeteasy.com/building/9-sherman-avenue-new_york', 'https://streeteasy.com/building/124-west-130-street-new_york', 'https://streeteasy.com/building/15-east-131-street-new_york', 'https://streeteasy.com/building/17-west-120-street-new_york', 'https://streeteasy.com/building/2128-frederick-douglass-blvd-new_york', 'https://streeteasy.com/building/279-west-119-street-new_york', 'https://streeteasy.com/building/2552-frederick-douglass-boulevard-new_york', 'https://streeteasy.com/building/2024-2-avenue-new_york', 'https://streeteasy.com/building/19-west-120-street-new_york', 'https://streeteasy.com/building/142-edgecombe-avenue-new_york', 'https://streeteasy.com/building/41-west-118-street-new_york', 'https://streeteasy.com/building/1709-amsterdam-avenue-new_york', 'https://streeteasy.com/building/2220-frederick-douglass-blvd-new_york', 'https://streeteasy.com/building/352-east-119-street-new_york', 'https://streeteasy.com/building/57-vermilyea-avenue-new_york', 'https://streeteasy.com/building/2302-2-avenue-new_york', 'https://streeteasy.com/building/4861-broadway-new_york', 'https://streeteasy.com/building/3427-broadway-new_york']\n"
     ]
    }
   ],
   "source": [
    "building_names = []\n",
    "building_urls = []\n",
    "\n",
    "for page in random_pages:\n",
    "    page_counter = 1\n",
    "    \n",
    "    response = request_page(update_url(page))\n",
    "    \n",
    "    if response.status_code == 200:\n",
    "        print (f\"Successfully retrieved page {page}.\")\n",
    "        soup = BeautifulSoup(response.text, \"html.parser\")\n",
    "        building_h2s = soup.find_all('h2', class_ = \"details-title\")\n",
    "    \n",
    "        for building in building_h2s:\n",
    "            building_names.append(building.find('a').text)\n",
    "            building_urls.append(f\"https://streeteasy.com{building.find('a')['href']}\")\n",
    "    else:\n",
    "        print(f\"There was an error.  Status code for page {page} is {response.status_code}\")\n",
    "    \n",
    "    snoozer = randrange(30,90)\n",
    "    print(f\"Please wait for next page.  Snoozing for {snoozer} secs to avoid detection.\")\n",
    "    time.sleep(snoozer)\n",
    "\n",
    "print(building_names)\n",
    "print(building_urls)"
   ]
  },
  {
   "cell_type": "code",
   "execution_count": 9,
   "id": "8fbcfe2d",
   "metadata": {},
   "outputs": [
    {
     "name": "stdout",
     "output_type": "stream",
     "text": [
      "['Vandewater', '300 West ', 'Eleven Hancock', 'The Rennie', 'The Cereza', '1399 Park', 'The Smile', 'The Victoria Tower Residences', 'Kalahari', 'Huxley', '100 Overlook Terrace', 'Be.Live Harlem Condominiums', '145 Central Park North', '2211 Third Avenue', '643 West 171st Street', '1400 Fifth Avenue', '4260 Broadway', 'The Langston', 'Edgecombe Parc', 'The Riviera', '301 West 110th Street', '30 Morningside Drive', '30 Morningside Drive', '510 West 171st Street', '123 East 102nd Street', '546 West 156th Street', 'The Aspen', '133 West 140th Street', '2143 Adam C Powell Boulevard', '100 West 141st Street', '675 Academy Street', 'Enclave at the Cathedral', '208 West 140th Street', 'Circa Central Park', '1330 Fifth Avenue', '99 Morningside', 'Parc North', '1831 Madison Avenue', '116 Pinehurst Avenue', '130 Wadsworth Avenue', '380 Riverside Drive', 'Dwyer Condominium', '1090 Saint Nicholas Avenue', '304 West 151st Street', '2580 Adam Clayton Powell Jr Boulevard', '2002 Fifth', '77 Park Terrace East', '159-34 Riverside Drive West', '16 East 116th Street', '539 West 155th Street', '2006 Adam C Powell Boulevard', 'The Adeline', 'The Crillon Court', '173 East 101st Street', '860 West 181st Street', '395 Riverside Drive', '531 West 141st Street', '1987 Amsterdam Avenue', '168 West 123rd Street', '43 Saint Nicholas Place', '410 East 117th Street', '15 Claremont Avenue', '174 Pinehurst Avenue', '162 West 228th Street', '2131 Second Avenue', '531 West 150th Street', '353 West 117th Street', '2311 Adam Clayton Powell Jr Boulevard', '1590 Amsterdam Avenue', '244 West 137th Street', '137 West 111st Street', '509 West 152nd Street', '210 West 122nd Street', '553 West 144th Street', '109 Audubon Avenue', '144 Claremont Avenue', '1520 Saint Nicholas Avenue', '263 West 139th Street', '946 Saint Nicholas Avenue', '152 Sherman Avenue', '166 East 105th Street', '144 West 120th Street', '122 West 131st Street', '560 West 151st Street', '10 East 128th Street', '59 West 128th Street', '2649 Frederick Douglass Boulevard', '625 West 140th Street', '2036 Fifth Avenue', '209 West 118th Street', '238 Ft Washington Avenue', '2643 Frederick Douglass Boulevard', '307 West 120th Street', '87 Park Terrace West', '223 West 145th Street', '516 West 156th Street', '1700 Lexington Avenue', '103 West 118th Street', '606 West 113rd Street', '65 Ft Washington Avenue', '560 West 173rd Street', '544 West 157th Street', '229 West 139th Street', '68 Cooper Street', '1500 Amsterdam Avenue', '158 East 124th Street', '529 West 179th Street', '455 West 144th Street', '501 West 122nd Street', '209 West 118th Street', '214 East 111st Street', '801 Saint Nicholas Avenue', '56 Hamilton Terrace', '417 West 141st Street', '1 Hamilton Terrace', '348 West 145th Street', '222 Edgecombe Avenue', '41 Bradhurst Avenue', '710 Saint Nicholas Avenue', '335 Edgecombe Avenue', '363 Edgecombe Avenue', 'JAMES A. AND RUTH M. BAILEY HOUSE', '475 West 140th Street', '473 West 140th Street', '469 West 140th Street', '452 West 141st Street', '456 West 142nd Street', '473 West 142nd Street', '459 West 143rd Street', '457 West 143rd Street', '330 Convent Avenue', '468 West 144th Street', '456 West 145th Street', '466 West 145th Street', '475 West 146th Street', '431 West 146th Street', '429 West 146th Street', '406 West 147th Street', '418 West 147th Street', '430 West 147th Street', '465 West 147th Street', '457 West 148th Street', '419 West 148th Street', '407 West 148th Street', '414 West 149th Street', '811 Saint Nicholas Avenue', '464 West 153rd Street', '425 West 154th Street', '430 West 154th Street', '511 West 138th Street', '524 West 140th Street', '542 West 140th Street', '101 Hamilton Place', '532 West 142nd Street', '542 West 142nd Street', '535 West 141st Street', '514 West 143rd Street', '261 Lenox Avenue', '533 West 111st Street', '119 West 122nd Street', '51 Saint Nicholas Place', '148 West 129th Street', '614 West 131st Street', '621 West 135th Street', '626 West 136th Street', '15 Sickles Street', '45 West 118th Street', '154 West 131st Street', '550 West 184th Street', '345 Manhattan Avenue', '4411 Broadway', '1945 Park Avenue', '211 West 147th Street', '8 West 121st Street', 'Brownstone Lane I', '4 West 128th Street', '1080 Amsterdam', '600 West 157th Street', '545 West 164th Street', '69 West 126th Street', '351 West 125th Street', '142 West 121st Street', 'Rosa Parks Condominium', '640 West 138th Street', '2040 Madison Avenue', '3841 Broadway', '17 West 123rd Street', '3441 Broadway', '121 Post Avenue', '124 West 130th Street', '245 East 115th Street', '52 West 111st Street', '138 West 121st Street', '108 West 134th Street', '1291 Saint Nicholas Avenue', '1965 Amsterdam Avenue', '21 Broadway Terrace', '306 East 119th Street', '54 West 124th Street', '2328 Second Avenue', '1683 Lexington Avenue', '118 East 116th Street', '9 Sherman Avenue', '124 West 130th Street', '15 East 131st Street', '17 West 120th Street', '2128 Frederick Douglass Boulevard', '279 West 119th Street', '2552 Frederick Douglass Boulevard', '2024 Second Avenue', '19 West 120th Street', '142 Edgecombe Avenue', '41 West 118th Street', '1709 Amsterdam Avenue', '2220 Frederick Douglass Boulevard', '352 East 119th Street', '57 Vermilyea Avenue', '2302 Second Avenue', '4861 Broadway', '3427 Broadway']\n",
      "['https://streeteasy.com/building/vandewater-condominium', 'https://streeteasy.com/building/300-west', 'https://streeteasy.com/building/eleven-hancock', 'https://streeteasy.com/building/the-rennie', 'https://streeteasy.com/building/the-cereza', 'https://streeteasy.com/building/1399-park', 'https://streeteasy.com/building/the-smile', 'https://streeteasy.com/building/the-victoria-tower-residences', 'https://streeteasy.com/building/kalahari-condominium', 'https://streeteasy.com/building/huxley-condominium', 'https://streeteasy.com/building/100-overlook-terrace-new_york', 'https://streeteasy.com/building/belive-harlem-condominiums', 'https://streeteasy.com/building/145-central-park-north-new_york', 'https://streeteasy.com/building/2211-3-avenue-new_york', 'https://streeteasy.com/building/643-west-171-street-new_york', 'https://streeteasy.com/building/1400-5-avenue-new_york', 'https://streeteasy.com/building/4260-broadway-new_york', 'https://streeteasy.com/building/the-langston', 'https://streeteasy.com/building/edgecombe-parc', 'https://streeteasy.com/building/the-riviera', 'https://streeteasy.com/building/301-west-110th-street', 'https://streeteasy.com/building/30-morningside-drive-new_york', 'https://streeteasy.com/building/30-morningside-drive-new_york', 'https://streeteasy.com/building/510-west-171-street-new_york', 'https://streeteasy.com/building/123-east-102-street-new_york', 'https://streeteasy.com/building/546-west-156-street-new_york', 'https://streeteasy.com/building/the-aspen', 'https://streeteasy.com/building/133-west-140-street-new_york', 'https://streeteasy.com/building/2143-adam-c-powell-blvd-new_york', 'https://streeteasy.com/building/100-west-141-street-new_york', 'https://streeteasy.com/building/675-academy-street-new_york', 'https://streeteasy.com/building/enclave-at-the-cathedral', 'https://streeteasy.com/building/208-west-140-street-new_york', 'https://streeteasy.com/building/circa-central-park', 'https://streeteasy.com/building/1330-5-avenue-new_york', 'https://streeteasy.com/building/99-morningside', 'https://streeteasy.com/building/parc-north', 'https://streeteasy.com/building/1831-madison-avenue-new_york', 'https://streeteasy.com/building/116-pinehurst-avenue-new_york', 'https://streeteasy.com/building/130-wadsworth-avenue-new_york', 'https://streeteasy.com/building/380-riverside-drive-new_york', 'https://streeteasy.com/building/dwyer-condominium', 'https://streeteasy.com/building/1090-st-nicholas-avenue-new_york', 'https://streeteasy.com/building/304-west-151-street-new_york', 'https://streeteasy.com/building/2580-adam-clayton-powell-jr-boulevard-new_york', 'https://streeteasy.com/building/2002-fifth', 'https://streeteasy.com/building/77-park-terrace-east-new_york', 'https://streeteasy.com/building/159_34-riverside-drive-west-new_york-2', 'https://streeteasy.com/building/16-east-116-street-new_york', 'https://streeteasy.com/building/539-west-155-street-new_york', 'https://streeteasy.com/building/2006-adam-c-powell-blvd-new_york', 'https://streeteasy.com/building/the-adeline', 'https://streeteasy.com/building/the-crillon-court', 'https://streeteasy.com/building/173-east-101-street-new_york', 'https://streeteasy.com/building/860-west-181-street-new_york', 'https://streeteasy.com/building/395-riverside-drive-new_york', 'https://streeteasy.com/building/531-west-141-street-new_york', 'https://streeteasy.com/building/1987-amsterdam-avenue-new_york', 'https://streeteasy.com/building/168-west-123-street-new_york', 'https://streeteasy.com/building/43-st-nicholas-place-new_york', 'https://streeteasy.com/building/410-east-117-street-new_york', 'https://streeteasy.com/building/15-claremont-avenue-new_york', 'https://streeteasy.com/building/174-pinehurst-avenue-new_york', 'https://streeteasy.com/building/162-west-228-street-bronx', 'https://streeteasy.com/building/2131-2-avenue-new_york', 'https://streeteasy.com/building/531-west-150-street-new_york', 'https://streeteasy.com/building/353-west-117-street-new_york', 'https://streeteasy.com/building/2311-adam-clayton-powell-jr-boulevard-new_york', 'https://streeteasy.com/building/1590-amsterdam-avenue-new_york', 'https://streeteasy.com/building/244-west-137-street-new_york', 'https://streeteasy.com/building/137-west-111-street-new_york', 'https://streeteasy.com/building/509-west-152-street-new_york', 'https://streeteasy.com/building/210-west-122-street-new_york', 'https://streeteasy.com/building/553-west-144-street-new_york', 'https://streeteasy.com/building/109-audubon-avenue-new_york', 'https://streeteasy.com/building/144-claremont-avenue-new_york', 'https://streeteasy.com/building/1520-st-nicholas-avenue-new_york', 'https://streeteasy.com/building/263-west-139-street-new_york', 'https://streeteasy.com/building/946-st-nicholas-avenue-new_york', 'https://streeteasy.com/building/152-sherman-avenue-new_york', 'https://streeteasy.com/building/166-east-105-street-new_york', 'https://streeteasy.com/building/144-west-120-street-new_york', 'https://streeteasy.com/building/122-west-131-street-new_york', 'https://streeteasy.com/building/560-west-151-street-new_york', 'https://streeteasy.com/building/10-east-128-street-new_york', 'https://streeteasy.com/building/59-west-128-street-new_york', 'https://streeteasy.com/building/2649-frederick-douglass-blvd-new_york', 'https://streeteasy.com/building/625-west-140-street-new_york', 'https://streeteasy.com/building/2036-5-avenue-new_york', 'https://streeteasy.com/building/209-west-118-street-new_york', 'https://streeteasy.com/building/238-ft-washington-avenue-new_york', 'https://streeteasy.com/building/2643-frederick-douglass-blvd-new_york', 'https://streeteasy.com/building/307-west-120-street-new_york', 'https://streeteasy.com/building/87-park-terrace-west-new_york', 'https://streeteasy.com/building/223-west-145-street-new_york', 'https://streeteasy.com/building/516-west-156-street-new_york', 'https://streeteasy.com/building/1700-lexington-avenue-new_york', 'https://streeteasy.com/building/103-west-118-street-new_york', 'https://streeteasy.com/building/606-west-113-street-new_york', 'https://streeteasy.com/building/65-ft-washington-avenue-new_york', 'https://streeteasy.com/building/560-west-173-street-new_york', 'https://streeteasy.com/building/544-west-157-street-new_york', 'https://streeteasy.com/building/229-west-139-street-new_york', 'https://streeteasy.com/building/68-cooper-street-new_york', 'https://streeteasy.com/building/1500-amsterdam-avenue-new_york', 'https://streeteasy.com/building/158-east-124-street-new_york', 'https://streeteasy.com/building/529-west-179-street-new_york', 'https://streeteasy.com/building/455-west-144-street-new_york', 'https://streeteasy.com/building/501-west-122-street-new_york', 'https://streeteasy.com/building/209-west-118-street-new_york', 'https://streeteasy.com/building/214-east-111-street-new_york', 'https://streeteasy.com/building/801-st-nicholas-avenue-new_york', 'https://streeteasy.com/building/56-hamilton-terrace-new_york', 'https://streeteasy.com/building/417-west-141-street-new_york', 'https://streeteasy.com/building/1-hamilton-terrace-new_york', 'https://streeteasy.com/building/348-west-145-street-new_york', 'https://streeteasy.com/building/222-edgecombe-avenue-new_york', 'https://streeteasy.com/building/41-bradhurst-avenue-new_york', 'https://streeteasy.com/building/710-st-nicholas-avenue-new_york', 'https://streeteasy.com/building/335-edgecombe-avenue-new_york', 'https://streeteasy.com/building/363-edgecombe-avenue-new_york', 'https://streeteasy.com/building/james-a-and-ruth-m-bailey-house', 'https://streeteasy.com/building/475-west-140-street-new_york', 'https://streeteasy.com/building/473-west-140-street-new_york', 'https://streeteasy.com/building/469-west-140-street-new_york', 'https://streeteasy.com/building/452-west-141-street-new_york', 'https://streeteasy.com/building/456-west-142-street-new_york', 'https://streeteasy.com/building/473-west-142-street-new_york', 'https://streeteasy.com/building/459-west-143-street-new_york', 'https://streeteasy.com/building/457-west-143-street-new_york', 'https://streeteasy.com/building/330-convent-avenue-new_york', 'https://streeteasy.com/building/468-west-144-street-new_york', 'https://streeteasy.com/building/456-west-145-street-new_york', 'https://streeteasy.com/building/466-west-145-street-new_york', 'https://streeteasy.com/building/475-west-146-street-new_york', 'https://streeteasy.com/building/431-west-146-street-new_york', 'https://streeteasy.com/building/429-west-146-street-new_york', 'https://streeteasy.com/building/406-west-147-street-new_york', 'https://streeteasy.com/building/418-west-147-street-new_york', 'https://streeteasy.com/building/430-west-147-street-new_york', 'https://streeteasy.com/building/465-west-147-street-new_york', 'https://streeteasy.com/building/457-west-148-street-new_york', 'https://streeteasy.com/building/419-west-148-street-new_york', 'https://streeteasy.com/building/407-west-148-street-new_york', 'https://streeteasy.com/building/414-west-149-street-new_york', 'https://streeteasy.com/building/811-st-nicholas-avenue-new_york', 'https://streeteasy.com/building/464-west-153-street-new_york', 'https://streeteasy.com/building/425-west-154-street-new_york', 'https://streeteasy.com/building/430-west-154-street-new_york', 'https://streeteasy.com/building/511-west-138-street-new_york', 'https://streeteasy.com/building/524-west-140-street-new_york', 'https://streeteasy.com/building/542-west-140-street-new_york', 'https://streeteasy.com/building/101-hamilton-place-new_york', 'https://streeteasy.com/building/532-west-142-street-new_york', 'https://streeteasy.com/building/542-west-142-street-new_york', 'https://streeteasy.com/building/535-west-141-street-new_york', 'https://streeteasy.com/building/514-west-143-street-new_york', 'https://streeteasy.com/building/261-lenox-avenue-new_york', 'https://streeteasy.com/building/533-west-111-street-new_york', 'https://streeteasy.com/building/119-west-122-street-new_york', 'https://streeteasy.com/building/51-st-nicholas-place-new_york', 'https://streeteasy.com/building/148-west-129-street-new_york', 'https://streeteasy.com/building/614-west-131-street-new_york', 'https://streeteasy.com/building/621-west-135-street-new_york', 'https://streeteasy.com/building/626-west-136-street-new_york', 'https://streeteasy.com/building/15-sickles-street-new_york', 'https://streeteasy.com/building/45-west-118-street-new_york', 'https://streeteasy.com/building/154-west-131-street-new_york', 'https://streeteasy.com/building/550-west-184-street-new_york', 'https://streeteasy.com/building/345-manhattan-avenue-new_york', 'https://streeteasy.com/building/4411-broadway-new_york', 'https://streeteasy.com/building/1945-park-avenue-new_york', 'https://streeteasy.com/building/211-west-147-street-new_york', 'https://streeteasy.com/building/8-west-121-street-new_york', 'https://streeteasy.com/building/brownstone-lane-i-312-west-119-street-new_york', 'https://streeteasy.com/building/4-west-128-street-new_york', 'https://streeteasy.com/building/1080-amsterdam', 'https://streeteasy.com/building/600-west-157-street-new_york', 'https://streeteasy.com/building/545-west-164-street-new_york', 'https://streeteasy.com/building/69-west-126-street-new_york', 'https://streeteasy.com/building/351-west-125-street-new_york', 'https://streeteasy.com/building/142-west-121-street-new_york', 'https://streeteasy.com/building/rosa-parks-condominium', 'https://streeteasy.com/building/640-west-138-street-new_york', 'https://streeteasy.com/building/2040-madison-avenue-new_york', 'https://streeteasy.com/building/3841-broadway-new_york', 'https://streeteasy.com/building/17-west-123-street-new_york', 'https://streeteasy.com/building/3441-broadway-new_york', 'https://streeteasy.com/building/121-post-avenue-new_york', 'https://streeteasy.com/building/124-west-130-street-new_york', 'https://streeteasy.com/building/245-east-115-street-new_york', 'https://streeteasy.com/building/52-west-111-street-new_york', 'https://streeteasy.com/building/138-west-121-street-new_york', 'https://streeteasy.com/building/108-west-134-street-new_york', 'https://streeteasy.com/building/1291-st-nicholas-avenue-new_york', 'https://streeteasy.com/building/1965-amsterdam-avenue-new_york', 'https://streeteasy.com/building/21-broadway-terrace-new_york', 'https://streeteasy.com/building/306-east-119-street-new_york', 'https://streeteasy.com/building/54-west-124-street-new_york', 'https://streeteasy.com/building/2328-2-avenue-new_york', 'https://streeteasy.com/building/1683-lexington-avenue-new_york', 'https://streeteasy.com/building/118-east-116-street-new_york', 'https://streeteasy.com/building/9-sherman-avenue-new_york', 'https://streeteasy.com/building/124-west-130-street-new_york', 'https://streeteasy.com/building/15-east-131-street-new_york', 'https://streeteasy.com/building/17-west-120-street-new_york', 'https://streeteasy.com/building/2128-frederick-douglass-blvd-new_york', 'https://streeteasy.com/building/279-west-119-street-new_york', 'https://streeteasy.com/building/2552-frederick-douglass-boulevard-new_york', 'https://streeteasy.com/building/2024-2-avenue-new_york', 'https://streeteasy.com/building/19-west-120-street-new_york', 'https://streeteasy.com/building/142-edgecombe-avenue-new_york', 'https://streeteasy.com/building/41-west-118-street-new_york', 'https://streeteasy.com/building/1709-amsterdam-avenue-new_york', 'https://streeteasy.com/building/2220-frederick-douglass-blvd-new_york', 'https://streeteasy.com/building/352-east-119-street-new_york', 'https://streeteasy.com/building/57-vermilyea-avenue-new_york', 'https://streeteasy.com/building/2302-2-avenue-new_york', 'https://streeteasy.com/building/4861-broadway-new_york', 'https://streeteasy.com/building/3427-broadway-new_york']\n"
     ]
    }
   ],
   "source": [
    "## I interrupted the above code because it was not delaying randonly enough and I was \n",
    "## afraid of getting detected.  But I am leaving like that to illustrate that it was working with the set of random\n",
    "## pages generated.  Here, I am printing what it did compile in the 8 times it ran.\n",
    "\n",
    "print(building_names)\n",
    "print(building_urls)"
   ]
  },
  {
   "cell_type": "code",
   "execution_count": 10,
   "id": "c1672545",
   "metadata": {},
   "outputs": [
    {
     "data": {
      "text/html": [
       "<div>\n",
       "<style scoped>\n",
       "    .dataframe tbody tr th:only-of-type {\n",
       "        vertical-align: middle;\n",
       "    }\n",
       "\n",
       "    .dataframe tbody tr th {\n",
       "        vertical-align: top;\n",
       "    }\n",
       "\n",
       "    .dataframe thead th {\n",
       "        text-align: right;\n",
       "    }\n",
       "</style>\n",
       "<table border=\"1\" class=\"dataframe\">\n",
       "  <thead>\n",
       "    <tr style=\"text-align: right;\">\n",
       "      <th></th>\n",
       "      <th>building</th>\n",
       "      <th>url</th>\n",
       "    </tr>\n",
       "  </thead>\n",
       "  <tbody>\n",
       "    <tr>\n",
       "      <th>0</th>\n",
       "      <td>Vandewater</td>\n",
       "      <td>https://streeteasy.com/building/vandewater-con...</td>\n",
       "    </tr>\n",
       "    <tr>\n",
       "      <th>1</th>\n",
       "      <td>300 West</td>\n",
       "      <td>https://streeteasy.com/building/300-west</td>\n",
       "    </tr>\n",
       "    <tr>\n",
       "      <th>2</th>\n",
       "      <td>Eleven Hancock</td>\n",
       "      <td>https://streeteasy.com/building/eleven-hancock</td>\n",
       "    </tr>\n",
       "    <tr>\n",
       "      <th>3</th>\n",
       "      <td>The Rennie</td>\n",
       "      <td>https://streeteasy.com/building/the-rennie</td>\n",
       "    </tr>\n",
       "    <tr>\n",
       "      <th>4</th>\n",
       "      <td>The Cereza</td>\n",
       "      <td>https://streeteasy.com/building/the-cereza</td>\n",
       "    </tr>\n",
       "    <tr>\n",
       "      <th>...</th>\n",
       "      <td>...</td>\n",
       "      <td>...</td>\n",
       "    </tr>\n",
       "    <tr>\n",
       "      <th>215</th>\n",
       "      <td>352 East 119th Street</td>\n",
       "      <td>https://streeteasy.com/building/352-east-119-s...</td>\n",
       "    </tr>\n",
       "    <tr>\n",
       "      <th>216</th>\n",
       "      <td>57 Vermilyea Avenue</td>\n",
       "      <td>https://streeteasy.com/building/57-vermilyea-a...</td>\n",
       "    </tr>\n",
       "    <tr>\n",
       "      <th>217</th>\n",
       "      <td>2302 Second Avenue</td>\n",
       "      <td>https://streeteasy.com/building/2302-2-avenue-...</td>\n",
       "    </tr>\n",
       "    <tr>\n",
       "      <th>218</th>\n",
       "      <td>4861 Broadway</td>\n",
       "      <td>https://streeteasy.com/building/4861-broadway-...</td>\n",
       "    </tr>\n",
       "    <tr>\n",
       "      <th>219</th>\n",
       "      <td>3427 Broadway</td>\n",
       "      <td>https://streeteasy.com/building/3427-broadway-...</td>\n",
       "    </tr>\n",
       "  </tbody>\n",
       "</table>\n",
       "<p>220 rows × 2 columns</p>\n",
       "</div>"
      ],
      "text/plain": [
       "                  building                                                url\n",
       "0               Vandewater  https://streeteasy.com/building/vandewater-con...\n",
       "1                300 West            https://streeteasy.com/building/300-west\n",
       "2           Eleven Hancock     https://streeteasy.com/building/eleven-hancock\n",
       "3               The Rennie         https://streeteasy.com/building/the-rennie\n",
       "4               The Cereza         https://streeteasy.com/building/the-cereza\n",
       "..                     ...                                                ...\n",
       "215  352 East 119th Street  https://streeteasy.com/building/352-east-119-s...\n",
       "216    57 Vermilyea Avenue  https://streeteasy.com/building/57-vermilyea-a...\n",
       "217     2302 Second Avenue  https://streeteasy.com/building/2302-2-avenue-...\n",
       "218          4861 Broadway  https://streeteasy.com/building/4861-broadway-...\n",
       "219          3427 Broadway  https://streeteasy.com/building/3427-broadway-...\n",
       "\n",
       "[220 rows x 2 columns]"
      ]
     },
     "execution_count": 10,
     "metadata": {},
     "output_type": "execute_result"
    }
   ],
   "source": [
    "## Throwing this into a dataframe for illustration purposes...\n",
    "\n",
    "\n",
    "df = pd.DataFrame((zip(building_names, building_urls)), \n",
    "               columns =['building', 'url'])\n",
    "\n",
    "df"
   ]
  },
  {
   "cell_type": "code",
   "execution_count": 11,
   "id": "36a566a7",
   "metadata": {},
   "outputs": [],
   "source": [
    "## Save to CSV\n",
    "\n",
    "def save_to_csv (data_frame, file_name):\n",
    "    ''' provide a data frame and a filename in that order to save to csv'''\n",
    "    \n",
    "    ## safety for file names that forgot the '.csv'\n",
    "    if \".csv\" in file_name:\n",
    "        data_frame.to_csv(file_name, encoding = 'UTF-8', index = False)\n",
    "    else:\n",
    "        data_frame.to_csv(f\"{file_name}.csv\", encoding = 'UTF-8', index = False)\n"
   ]
  },
  {
   "cell_type": "code",
   "execution_count": 12,
   "id": "85f1cc91",
   "metadata": {},
   "outputs": [],
   "source": [
    "save_to_csv(df, \"upper_manh_buildings.csv\")"
   ]
  },
  {
   "cell_type": "code",
   "execution_count": null,
   "id": "a22b32dc",
   "metadata": {},
   "outputs": [],
   "source": []
  },
  {
   "cell_type": "code",
   "execution_count": null,
   "id": "0af6d680",
   "metadata": {},
   "outputs": [],
   "source": []
  }
 ],
 "metadata": {
  "kernelspec": {
   "display_name": "Python 3",
   "language": "python",
   "name": "python3"
  },
  "language_info": {
   "codemirror_mode": {
    "name": "ipython",
    "version": 3
   },
   "file_extension": ".py",
   "mimetype": "text/x-python",
   "name": "python",
   "nbconvert_exporter": "python",
   "pygments_lexer": "ipython3",
   "version": "3.8.8"
  }
 },
 "nbformat": 4,
 "nbformat_minor": 5
}
